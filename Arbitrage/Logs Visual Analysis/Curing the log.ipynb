{
 "cells": [
  {
   "cell_type": "code",
   "execution_count": 1,
   "metadata": {},
   "outputs": [],
   "source": [
    "import json\n",
    "from time import time"
   ]
  },
  {
   "cell_type": "code",
   "execution_count": 2,
   "metadata": {},
   "outputs": [
    {
     "name": "stdout",
     "output_type": "stream",
     "text": [
      "14.583\n",
      "352143\n"
     ]
    }
   ],
   "source": [
    "start = time()\n",
    "with open('log_btc_usd.json') as f:\n",
    "    data = f.readlines()\n",
    "print('{0:.3f}'.format(time() - start))\n",
    "print(len(data))"
   ]
  },
  {
   "cell_type": "code",
   "execution_count": 3,
   "metadata": {},
   "outputs": [],
   "source": [
    "N = len(data)"
   ]
  },
  {
   "cell_type": "code",
   "execution_count": 4,
   "metadata": {},
   "outputs": [
    {
     "name": "stdout",
     "output_type": "stream",
     "text": [
      "54.084\n",
      "352129\n"
     ]
    }
   ],
   "source": [
    "clean_data = []\n",
    "\n",
    "start = time()\n",
    "for i in range(1, N-1):\n",
    "    try:\n",
    "        str = data[i][:-2]\n",
    "        json.loads('{' + str + '}')\n",
    "        clean_data.append(str)\n",
    "    except:\n",
    "        pass\n",
    "print('{0:.3f}'.format(time() - start))\n",
    "\n",
    "print(len(clean_data))"
   ]
  },
  {
   "cell_type": "code",
   "execution_count": 5,
   "metadata": {},
   "outputs": [
    {
     "name": "stdout",
     "output_type": "stream",
     "text": [
      "20.910\n"
     ]
    }
   ],
   "source": [
    "start = time()\n",
    "with open('log_btc_usd_copy.json', 'w') as g:\n",
    "    # print('{', file = g)\n",
    "    g.writelines(clean_data)\n",
    "    # print('}', file = g)\n",
    "print('{0:.3f}'.format(time() - start))"
   ]
  },
  {
   "cell_type": "code",
   "execution_count": null,
   "metadata": {},
   "outputs": [],
   "source": []
  }
 ],
 "metadata": {
  "kernelspec": {
   "display_name": "Python 3",
   "language": "python",
   "name": "python3"
  },
  "language_info": {
   "codemirror_mode": {
    "name": "ipython",
    "version": 3
   },
   "file_extension": ".py",
   "mimetype": "text/x-python",
   "name": "python",
   "nbconvert_exporter": "python",
   "pygments_lexer": "ipython3",
   "version": "3.6.5"
  }
 },
 "nbformat": 4,
 "nbformat_minor": 2
}
