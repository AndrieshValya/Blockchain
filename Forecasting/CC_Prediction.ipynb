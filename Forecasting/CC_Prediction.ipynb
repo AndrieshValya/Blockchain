{
 "cells": [
  {
   "cell_type": "code",
   "execution_count": 188,
   "metadata": {},
   "outputs": [],
   "source": [
    "Exchange = [\"binance\",\"bitstamp\",\"cex\",\"exmo\",\"gdax\",\"kucoin\"]"
   ]
  },
  {
   "cell_type": "code",
   "execution_count": 189,
   "metadata": {},
   "outputs": [],
   "source": [
    "import pandas as pd"
   ]
  },
  {
   "cell_type": "code",
   "execution_count": 190,
   "metadata": {},
   "outputs": [],
   "source": [
    "ask = pd.read_csv('/Users/admin/PycharmProjects/data_for_arbitrage/ask.csv') # Price,BTC,Exchange,Currency"
   ]
  },
  {
   "cell_type": "code",
   "execution_count": 191,
   "metadata": {},
   "outputs": [],
   "source": [
    "ask.columns=['price','btc','exchange','currency']"
   ]
  },
  {
   "cell_type": "code",
   "execution_count": 192,
   "metadata": {},
   "outputs": [],
   "source": [
    "bid = pd.read_csv('/Users/admin/PycharmProjects/data_for_arbitrage/bid.csv') # Price,BTC,Exchange,Currency"
   ]
  },
  {
   "cell_type": "code",
   "execution_count": 193,
   "metadata": {},
   "outputs": [],
   "source": [
    "bid.columns=['price','btc','exchange','currency']"
   ]
  },
  {
   "cell_type": "code",
   "execution_count": 194,
   "metadata": {},
   "outputs": [],
   "source": [
    "ask['volume'] = ask['price']*ask['btc']/1000"
   ]
  },
  {
   "cell_type": "code",
   "execution_count": 195,
   "metadata": {},
   "outputs": [],
   "source": [
    "bid['volume'] = bid['price']*bid['btc']/1000"
   ]
  },
  {
   "cell_type": "code",
   "execution_count": 196,
   "metadata": {},
   "outputs": [],
   "source": [
    "bid['cum'] = bid['volume'] # Фактически нужет только 1ый элемент\n",
    "ask['cum'] = ask['volume']"
   ]
  },
  {
   "cell_type": "code",
   "execution_count": 197,
   "metadata": {},
   "outputs": [],
   "source": [
    "ask_cex = ask[ask.exchange==u'cex']"
   ]
  },
  {
   "cell_type": "code",
   "execution_count": 207,
   "metadata": {},
   "outputs": [],
   "source": [
    "bid_cex = bid[bid.exchange==u'cex'].copy()"
   ]
  },
  {
   "cell_type": "code",
   "execution_count": 208,
   "metadata": {},
   "outputs": [],
   "source": [
    "bid_cex.reset_index(drop=True, inplace=True)\n",
    "ask_cex.reset_index(drop=True, inplace=True)"
   ]
  },
  {
   "cell_type": "code",
   "execution_count": 200,
   "metadata": {},
   "outputs": [
    {
     "data": {
      "text/html": [
       "<div>\n",
       "<style scoped>\n",
       "    .dataframe tbody tr th:only-of-type {\n",
       "        vertical-align: middle;\n",
       "    }\n",
       "\n",
       "    .dataframe tbody tr th {\n",
       "        vertical-align: top;\n",
       "    }\n",
       "\n",
       "    .dataframe thead th {\n",
       "        text-align: right;\n",
       "    }\n",
       "</style>\n",
       "<table border=\"1\" class=\"dataframe\">\n",
       "  <thead>\n",
       "    <tr style=\"text-align: right;\">\n",
       "      <th></th>\n",
       "      <th>price</th>\n",
       "      <th>btc</th>\n",
       "      <th>exchange</th>\n",
       "      <th>currency</th>\n",
       "      <th>volume</th>\n",
       "      <th>cum</th>\n",
       "    </tr>\n",
       "  </thead>\n",
       "  <tbody>\n",
       "    <tr>\n",
       "      <th>0</th>\n",
       "      <td>8095.7</td>\n",
       "      <td>0.397150</td>\n",
       "      <td>cex</td>\n",
       "      <td>usd</td>\n",
       "      <td>3.215207</td>\n",
       "      <td>3.215207</td>\n",
       "    </tr>\n",
       "    <tr>\n",
       "      <th>1</th>\n",
       "      <td>8095.8</td>\n",
       "      <td>0.652000</td>\n",
       "      <td>cex</td>\n",
       "      <td>usd</td>\n",
       "      <td>5.278462</td>\n",
       "      <td>5.278462</td>\n",
       "    </tr>\n",
       "    <tr>\n",
       "      <th>2</th>\n",
       "      <td>8095.9</td>\n",
       "      <td>0.964698</td>\n",
       "      <td>cex</td>\n",
       "      <td>usd</td>\n",
       "      <td>7.810095</td>\n",
       "      <td>7.810095</td>\n",
       "    </tr>\n",
       "  </tbody>\n",
       "</table>\n",
       "</div>"
      ],
      "text/plain": [
       "    price       btc exchange currency    volume       cum\n",
       "0  8095.7  0.397150      cex      usd  3.215207  3.215207\n",
       "1  8095.8  0.652000      cex      usd  5.278462  5.278462\n",
       "2  8095.9  0.964698      cex      usd  7.810095  7.810095"
      ]
     },
     "execution_count": 200,
     "metadata": {},
     "output_type": "execute_result"
    }
   ],
   "source": [
    "ask_cex[:3]"
   ]
  },
  {
   "cell_type": "code",
   "execution_count": 209,
   "metadata": {},
   "outputs": [
    {
     "data": {
      "text/html": [
       "<div>\n",
       "<style scoped>\n",
       "    .dataframe tbody tr th:only-of-type {\n",
       "        vertical-align: middle;\n",
       "    }\n",
       "\n",
       "    .dataframe tbody tr th {\n",
       "        vertical-align: top;\n",
       "    }\n",
       "\n",
       "    .dataframe thead th {\n",
       "        text-align: right;\n",
       "    }\n",
       "</style>\n",
       "<table border=\"1\" class=\"dataframe\">\n",
       "  <thead>\n",
       "    <tr style=\"text-align: right;\">\n",
       "      <th></th>\n",
       "      <th>price</th>\n",
       "      <th>btc</th>\n",
       "      <th>exchange</th>\n",
       "      <th>currency</th>\n",
       "      <th>volume</th>\n",
       "      <th>cum</th>\n",
       "    </tr>\n",
       "  </thead>\n",
       "  <tbody>\n",
       "    <tr>\n",
       "      <th>0</th>\n",
       "      <td>8080.0</td>\n",
       "      <td>0.049763</td>\n",
       "      <td>cex</td>\n",
       "      <td>usd</td>\n",
       "      <td>0.402085</td>\n",
       "      <td>0.402085</td>\n",
       "    </tr>\n",
       "    <tr>\n",
       "      <th>1</th>\n",
       "      <td>8079.9</td>\n",
       "      <td>0.081794</td>\n",
       "      <td>cex</td>\n",
       "      <td>usd</td>\n",
       "      <td>0.660890</td>\n",
       "      <td>0.660890</td>\n",
       "    </tr>\n",
       "    <tr>\n",
       "      <th>2</th>\n",
       "      <td>8079.1</td>\n",
       "      <td>0.290000</td>\n",
       "      <td>cex</td>\n",
       "      <td>usd</td>\n",
       "      <td>2.342939</td>\n",
       "      <td>2.342939</td>\n",
       "    </tr>\n",
       "  </tbody>\n",
       "</table>\n",
       "</div>"
      ],
      "text/plain": [
       "    price       btc exchange currency    volume       cum\n",
       "0  8080.0  0.049763      cex      usd  0.402085  0.402085\n",
       "1  8079.9  0.081794      cex      usd  0.660890  0.660890\n",
       "2  8079.1  0.290000      cex      usd  2.342939  2.342939"
      ]
     },
     "execution_count": 209,
     "metadata": {},
     "output_type": "execute_result"
    }
   ],
   "source": [
    "bid_cex[:3]"
   ]
  },
  {
   "cell_type": "code",
   "execution_count": 206,
   "metadata": {},
   "outputs": [
    {
     "name": "stderr",
     "output_type": "stream",
     "text": [
      "/Users/admin/anaconda3/lib/python3.6/site-packages/ipykernel_launcher.py:1: SettingWithCopyWarning: \n",
      "A value is trying to be set on a copy of a slice from a DataFrame.\n",
      "Try using .loc[row_indexer,col_indexer] = value instead\n",
      "\n",
      "See the caveats in the documentation: http://pandas.pydata.org/pandas-docs/stable/indexing.html#indexing-view-versus-copy\n",
      "  \"\"\"Entry point for launching an IPython kernel.\n"
     ]
    }
   ],
   "source": [
    "bid_cex['cumm'] = bid_cex['cum']"
   ]
  },
  {
   "cell_type": "code",
   "execution_count": 210,
   "metadata": {},
   "outputs": [
    {
     "name": "stderr",
     "output_type": "stream",
     "text": [
      "/Users/admin/anaconda3/lib/python3.6/site-packages/ipykernel_launcher.py:2: SettingWithCopyWarning: \n",
      "A value is trying to be set on a copy of a slice from a DataFrame\n",
      "\n",
      "See the caveats in the documentation: http://pandas.pydata.org/pandas-docs/stable/indexing.html#indexing-view-versus-copy\n",
      "  \n"
     ]
    }
   ],
   "source": [
    "for j in range(1, 50):\n",
    " bid_cex.cum[j] = bid_cex.cum[j-1]+bid_cex.volume[j]"
   ]
  },
  {
   "cell_type": "code",
   "execution_count": 203,
   "metadata": {},
   "outputs": [
    {
     "data": {
      "text/plain": [
       "0       0.402085\n",
       "1       0.660890\n",
       "2       2.342939\n",
       "3       7.004320\n",
       "4       4.039150\n",
       "5       0.299330\n",
       "6       2.421030\n",
       "7       3.262770\n",
       "8       0.146425\n",
       "9       1.009175\n",
       "10     12.085350\n",
       "11      3.471226\n",
       "12    241.590000\n",
       "13      4.026000\n",
       "14    197.447482\n",
       "15      5.782802\n",
       "16     18.021248\n",
       "17      1.632120\n",
       "18      0.659131\n",
       "19      0.253107\n",
       "20      0.120459\n",
       "21      0.883420\n",
       "22      0.031410\n",
       "23      0.236367\n",
       "24    240.654000\n",
       "25      2.406510\n",
       "26      1.644900\n",
       "27      7.168580\n",
       "28      5.309728\n",
       "29     32.297682\n",
       "30      0.800700\n",
       "31      3.592404\n",
       "32      1.788419\n",
       "33      0.377500\n",
       "34     14.522697\n",
       "35      0.417028\n",
       "36      0.558154\n",
       "37      0.325255\n",
       "38      0.119895\n",
       "39      0.379525\n",
       "40      0.025319\n",
       "41      0.526680\n",
       "42      0.797700\n",
       "43      0.581810\n",
       "44      0.796760\n",
       "45      0.379880\n",
       "46      0.054560\n",
       "47      0.796000\n",
       "48      1.771145\n",
       "49      0.825660\n",
       "Name: cum, dtype: float64"
      ]
     },
     "execution_count": 203,
     "metadata": {},
     "output_type": "execute_result"
    }
   ],
   "source": [
    "bid_cex.cum"
   ]
  },
  {
   "cell_type": "code",
   "execution_count": null,
   "metadata": {},
   "outputs": [],
   "source": []
  },
  {
   "cell_type": "code",
   "execution_count": null,
   "metadata": {},
   "outputs": [],
   "source": []
  },
  {
   "cell_type": "code",
   "execution_count": null,
   "metadata": {},
   "outputs": [],
   "source": []
  },
  {
   "cell_type": "code",
   "execution_count": null,
   "metadata": {},
   "outputs": [],
   "source": []
  },
  {
   "cell_type": "code",
   "execution_count": null,
   "metadata": {},
   "outputs": [],
   "source": []
  },
  {
   "cell_type": "code",
   "execution_count": null,
   "metadata": {},
   "outputs": [],
   "source": []
  },
  {
   "cell_type": "code",
   "execution_count": null,
   "metadata": {},
   "outputs": [],
   "source": []
  },
  {
   "cell_type": "code",
   "execution_count": null,
   "metadata": {},
   "outputs": [],
   "source": []
  }
 ],
 "metadata": {
  "kernelspec": {
   "display_name": "Python 3",
   "language": "python",
   "name": "python3"
  },
  "language_info": {
   "codemirror_mode": {
    "name": "ipython",
    "version": 3
   },
   "file_extension": ".py",
   "mimetype": "text/x-python",
   "name": "python",
   "nbconvert_exporter": "python",
   "pygments_lexer": "ipython3",
   "version": "3.6.4"
  }
 },
 "nbformat": 4,
 "nbformat_minor": 2
}
