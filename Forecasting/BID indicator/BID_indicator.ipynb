{
 "cells": [
  {
   "cell_type": "code",
   "execution_count": null,
   "metadata": {},
   "outputs": [],
   "source": [
    "# Import the libraries we will use\n",
    "import pandas as pd\n",
    "import numpy as np\n",
    "from scipy.stats.stats import pearsonr\n",
    "#import matplotlib.pyplot as plt\n",
    "#import matplotlib as mpl\n",
    "#from sklearn.metrics import mean_squared_error\n",
    "import plotly.offline as pl\n",
    "import plotly.graph_objs as go\n",
    "pl.init_notebook_mode(connected=True)\n",
    "#from datetime import datetime"
   ]
  },
  {
   "cell_type": "code",
   "execution_count": null,
   "metadata": {},
   "outputs": [],
   "source": [
    "#exchange = ('bitstamp_btc_usd','cex_btc_usd','exmo_btc_usd','bitfinex_btc_usd','kraken_btc_usd', 'gdax_btc_usd')\n",
    "exchange = ('kraken_btc_usd', 'bitstamp_btc_usd')\n",
    "time = ('10s','20s','30s')\n",
    "#alpha_all = (1.5,2,2.5,3)\n",
    "alpha_all = (2,3)\n",
    "#n = 0 # Exchange number\n",
    "#S = 2 # SPREAD > S\n",
    "#time_period = '10s' # '60s' '30min' -- prediction time\n",
    "#alpha = 3 # K > alpha"
   ]
  },
  {
   "cell_type": "code",
   "execution_count": null,
   "metadata": {
    "scrolled": false
   },
   "outputs": [],
   "source": [
    "for S in range(1,4):\n",
    "    for alpha in alpha_all:\n",
    "        for time_period in time:\n",
    "            for n in range(len(exchange)):\n",
    "                try:\n",
    "                    print(exchange[n])\n",
    "                    print(time_period)\n",
    "                    print(S,'$')\n",
    "                    print('alpha = ',alpha)\n",
    "                    # Read ask-bid price from the file\n",
    "                    series_exch = pd.read_csv(exchange[n]+'.csv', index_col=0)\n",
    "                    series_exch.index = pd.to_datetime(series_exch.index, unit='ms') # Time converting and +3 hour\n",
    "                    #series_exch.tail()\n",
    "                    series_period = series_exch.resample(time_period).mean()\n",
    "                    series_period['spread'] = series_period['ask'] - series_period['bid']\n",
    "                    #series_period.tail()\n",
    "                    N = len(series_period.index)\n",
    "                    BID = series_period['bid']\n",
    "                    ASK = series_period['ask']\n",
    "                    SPREAD = series_period['spread']\n",
    "                    K = np.ones(N-2)\n",
    "                    D = np.zeros(N-2)\n",
    "                    F = np.ones(N-2)\n",
    "                    SPREADbefore = np.zeros(N-2)\n",
    "                    SPREADnow = np.zeros(N-2)\n",
    "                    BIDbefore = np.zeros(N-2)\n",
    "                    ASKbefore = np.zeros(N-2)\n",
    "                    for t in range(1,N-2):\n",
    "                        if ASK[t]-ASK[t-1]>0 and BID[t]-BID[t-1]>-0.25*SPREAD[t-1]:\n",
    "                            K[t] = SPREAD[t]/SPREAD[t-1]\n",
    "                            D[t] = BID[t+1]-BID[t]\n",
    "                            F[t] = BID[t+1]/BID[t]\n",
    "                            SPREADbefore[t] = SPREAD[t-1]\n",
    "                            SPREADnow[t] = SPREAD[t]\n",
    "                    # Creating dataframe and log-transform y\n",
    "                    #data = {'ask': ASK[1:N-1], 'ask_before': ASKbefore, 'bid': BID[1:N-1], 'bid_before': BIDbefore, 'SPREAD': SPREAD[1:N-1], 'SPREAD_before': SPREADbefore, 'K': K, 'D': D, 'F': F}\n",
    "                    #data = {'bid': BID[1:N-1], 'bid_before': BIDbefore, 'SPREAD': SPREAD[1:N-1], 'SPREAD_before': SPREADbefore, 'K': K, 'D': D, 'F': F}\n",
    "                    data = {'SPREAD': SPREADnow, 'SPREAD_before': SPREADbefore, 'K': K, 'D': D, 'F': F}\n",
    "                    df_data = pd.DataFrame(data=data)\n",
    "                    df_data['K_check'] = df_data['SPREAD']/df_data['SPREAD_before']\n",
    "                    #print(df_data[['SPREAD_before', 'SPREAD', 'K', 'K_check']])\n",
    "                    df_data = df_data[df_data['K']>alpha].copy() # K>alpha\n",
    "                    df_data = df_data[df_data['SPREAD_before']>S].copy()\n",
    "                    #df_data['K_check'] = df_data['SPREAD']/df_data['SPREAD_before']\n",
    "                    #print(df_data[['SPREAD_before', 'SPREAD', 'K', 'K_check']])\n",
    "                    #df_data_plus = df_data[df_data['D']>0].copy()\n",
    "                    print('Количество', len(df_data))\n",
    "                    print('Отношение', len(df_data_plus)/len(df_data))\n",
    "                    K = df_data['K'].values\n",
    "                    D = df_data['D'].values\n",
    "                    F = df_data['F'].values\n",
    "                    print('Пирсон', pearsonr(K, D))\n",
    "                    #pearsonr(K, F)\n",
    "                    bid_ind = go.Scatter(\n",
    "                                x = K,\n",
    "                                y = D,\n",
    "                                name = 'BID',\n",
    "                                mode = 'markers'         \n",
    "                    )\n",
    "                    data = [bid_ind]\n",
    "                    layout = dict(title = 'BTC bid price',\n",
    "                    xaxis = dict(title = 'K'),\n",
    "                    yaxis = dict(title = 'D'),\n",
    "                    #paper_bgcolor='rgb(255,255,255)',\n",
    "                    #plot_bgcolor='rgb(229,229,229)',\n",
    "                    )    \n",
    "                    fig = dict(data=data, layout=layout)\n",
    "                    pl.iplot(fig, filename='styled-line')\n",
    "                except:\n",
    "                    pass"
   ]
  },
  {
   "cell_type": "code",
   "execution_count": null,
   "metadata": {},
   "outputs": [],
   "source": []
  },
  {
   "cell_type": "code",
   "execution_count": null,
   "metadata": {},
   "outputs": [],
   "source": []
  },
  {
   "cell_type": "code",
   "execution_count": null,
   "metadata": {},
   "outputs": [],
   "source": []
  },
  {
   "cell_type": "code",
   "execution_count": null,
   "metadata": {},
   "outputs": [],
   "source": []
  }
 ],
 "metadata": {
  "kernelspec": {
   "display_name": "Python 3",
   "language": "python",
   "name": "python3"
  },
  "language_info": {
   "codemirror_mode": {
    "name": "ipython",
    "version": 3
   },
   "file_extension": ".py",
   "mimetype": "text/x-python",
   "name": "python",
   "nbconvert_exporter": "python",
   "pygments_lexer": "ipython3",
   "version": "3.6.4"
  }
 },
 "nbformat": 4,
 "nbformat_minor": 2
}
